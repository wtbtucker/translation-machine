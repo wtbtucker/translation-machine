{
  "nbformat": 4,
  "nbformat_minor": 0,
  "metadata": {
    "colab": {
      "provenance": [],
      "gpuType": "T4"
    },
    "kernelspec": {
      "name": "python3",
      "display_name": "Python 3"
    },
    "language_info": {
      "name": "python"
    },
    "accelerator": "GPU"
  },
  "cells": [
    {
      "cell_type": "markdown",
      "source": [
        "# Introduction\n",
        "Automatic translation of languages is helpful for travelers, immigrants, or anyone who wants to communicate with people from another culture. This project seeks to solve the problem of machine translation from English to Spanish.\n",
        "\n",
        "For this task I will use a sequence-sequence transformer model. A transformer is a neural network that learns context by tracking relationships in sequential data. This context is very useful for automatic translation of text. [5]"
      ],
      "metadata": {
        "id": "0ZtqeZhgW_im"
      }
    },
    {
      "cell_type": "markdown",
      "source": [
        "# Data\n",
        "The data for this project was provided by Anki, a flashcard app for learning languages. The data is available for download through tensor flow's google API[1]. The dataset consists of 118,964 observations. Each observation consists of a sentence in English and its corresponding Spanish sentence. The max length for any sentence of either language is 248 characters. The English sentence could be seen as the only feature with structure (248,) and the Spanish sentence as the label with structure (248,)."
      ],
      "metadata": {
        "id": "M4todEjWW_sy"
      }
    },
    {
      "cell_type": "markdown",
      "source": [
        "# Exploratory Data Analysis"
      ],
      "metadata": {
        "id": "MSk9Rb7AW_5E"
      }
    },
    {
      "cell_type": "code",
      "execution_count": 47,
      "metadata": {
        "id": "D866GoyjW8Y6"
      },
      "outputs": [],
      "source": [
        "# !pip install -q --upgrade rouge-score\n",
        "# !pip install -q --upgrade keras-nlp\n",
        "# !pip install -q --upgrade keras\n",
        "\n",
        "# Important Libraries\n",
        "import keras_nlp\n",
        "import pathlib\n",
        "import random\n",
        "\n",
        "import keras\n",
        "from keras import ops\n",
        "import pandas as pd\n",
        "import numpy as np\n",
        "import matplotlib.pyplot as plt\n",
        "import seaborn as sns\n",
        "\n",
        "# Data Cleaning and Preprocessing\n",
        "import re\n",
        "import string\n",
        "import tensorflow.strings as tf_strings\n",
        "from keras.layers import TextVectorization\n",
        "\n",
        "# Model Building and Training\n",
        "import tensorflow as tf\n",
        "from keras import layers\n",
        "from tensorflow.keras.optimizers import Adam\n",
        "\n",
        "# Results and Analysis\n",
        "from nltk.translate.bleu_score import sentence_bleu\n",
        "from nltk.translate.meteor_score import meteor_score"
      ]
    },
    {
      "cell_type": "code",
      "source": [
        "import nltk\n",
        "nltk.download('wordnet')"
      ],
      "metadata": {
        "colab": {
          "base_uri": "https://localhost:8080/"
        },
        "id": "bsFoKIh_oClU",
        "outputId": "753bca00-bd89-428b-c8cc-960bc3043527"
      },
      "execution_count": 50,
      "outputs": [
        {
          "output_type": "stream",
          "name": "stderr",
          "text": [
            "[nltk_data] Downloading package wordnet to /root/nltk_data...\n"
          ]
        },
        {
          "output_type": "execute_result",
          "data": {
            "text/plain": [
              "True"
            ]
          },
          "metadata": {},
          "execution_count": 50
        }
      ]
    },
    {
      "cell_type": "code",
      "source": [
        "import tensorflow.data as tf_data\n",
        "from tensorflow_text.tools.wordpiece_vocab import (\n",
        "    bert_vocab_from_dataset as bert_vocab,\n",
        ")"
      ],
      "metadata": {
        "id": "3fT9rbURXPna"
      },
      "execution_count": 3,
      "outputs": []
    },
    {
      "cell_type": "code",
      "source": [
        "text_file = keras.utils.get_file(\n",
        "    fname=\"spa-eng.zip\",\n",
        "    origin=\"http://storage.googleapis.com/download.tensorflow.org/data/spa-eng.zip\",\n",
        "    extract=True,\n",
        ")\n",
        "text_file = pathlib.Path(text_file).parent / \"spa-eng\" / \"spa.txt\""
      ],
      "metadata": {
        "id": "VVaEtEIqX0Iu",
        "colab": {
          "base_uri": "https://localhost:8080/"
        },
        "outputId": "67b3b230-b5fc-4500-b5e3-dce669c997f2"
      },
      "execution_count": 4,
      "outputs": [
        {
          "output_type": "stream",
          "name": "stdout",
          "text": [
            "Downloading data from http://storage.googleapis.com/download.tensorflow.org/data/spa-eng.zip\n",
            "\u001b[1m2638744/2638744\u001b[0m \u001b[32m━━━━━━━━━━━━━━━━━━━━\u001b[0m\u001b[37m\u001b[0m \u001b[1m0s\u001b[0m 0us/step\n"
          ]
        }
      ]
    },
    {
      "cell_type": "code",
      "source": [
        "# Read text file and load into array as pairs\n",
        "with open(text_file) as f:\n",
        "  lines = f.read().split(\"\\n\")[:-1]\n",
        "text_pairs = []\n",
        "\n",
        "for line in lines:\n",
        "  eng, spa = line.split(\"\\t\")\n",
        "  spa = \"[start] \" + spa + \" [end]\"\n",
        "  text_pairs.append((eng, spa))"
      ],
      "metadata": {
        "id": "5_EMgiRGYUK-"
      },
      "execution_count": 8,
      "outputs": []
    },
    {
      "cell_type": "code",
      "source": [
        "# Examine 5 random examples of text pairs\n",
        "for i in range(5):\n",
        "  print(text_pairs[i])"
      ],
      "metadata": {
        "colab": {
          "base_uri": "https://localhost:8080/"
        },
        "id": "bvauoBhlYqsk",
        "outputId": "cc8969d9-5e47-4616-b16c-903f276ae80f"
      },
      "execution_count": 9,
      "outputs": [
        {
          "output_type": "stream",
          "name": "stdout",
          "text": [
            "('Go.', '[start] Ve. [end]')\n",
            "('Go.', '[start] Vete. [end]')\n",
            "('Go.', '[start] Vaya. [end]')\n",
            "('Go.', '[start] Váyase. [end]')\n",
            "('Hi.', '[start] Hola. [end]')\n"
          ]
        }
      ]
    },
    {
      "cell_type": "markdown",
      "source": [
        "The example text pairs consist of short sentences which include capital letters, punctuation, and stopwords"
      ],
      "metadata": {
        "id": "BB23PSpoZHl1"
      }
    },
    {
      "cell_type": "code",
      "source": [
        "# Load sentence pairs into a dataframe for easier data analysis\n",
        "eng_sentences = [pair[0] for pair in text_pairs]\n",
        "span_sentences = [pair[1] for pair in text_pairs]\n",
        "\n",
        "df = pd.DataFrame({'english': eng_sentences, 'spanish': span_sentences})\n",
        "print(df.info())"
      ],
      "metadata": {
        "colab": {
          "base_uri": "https://localhost:8080/"
        },
        "id": "iKPlhaxmZb53",
        "outputId": "ab4728f2-fa49-4bc0-a1d4-f408cb2ac547"
      },
      "execution_count": null,
      "outputs": [
        {
          "output_type": "stream",
          "name": "stdout",
          "text": [
            "<class 'pandas.core.frame.DataFrame'>\n",
            "RangeIndex: 118964 entries, 0 to 118963\n",
            "Data columns (total 2 columns):\n",
            " #   Column   Non-Null Count   Dtype \n",
            "---  ------   --------------   ----- \n",
            " 0   english  118964 non-null  object\n",
            " 1   spanish  118964 non-null  object\n",
            "dtypes: object(2)\n",
            "memory usage: 1.8+ MB\n",
            "None\n"
          ]
        }
      ]
    },
    {
      "cell_type": "code",
      "source": [
        "eng_len = df['english'].apply(len)\n",
        "span_len = df['spanish'].apply(len)\n",
        "\n",
        "english_mean_len = eng_len.mean()\n",
        "spanish_mean_len = span_len.mean()\n",
        "print(f'English mean sentence length: {english_mean_len}')\n",
        "print(f'Spanish mean sentence length: {spanish_mean_len}')\n",
        "\n",
        "plt.figure(figsize=(12, 6))\n",
        "\n",
        "# Plot histogram for 'eng_len'\n",
        "plt.subplot(1, 2, 1)\n",
        "sns.histplot(eng_len, kde=False, bins=30)\n",
        "plt.title('English Sentence Lengths')\n",
        "plt.xlabel('Length')\n",
        "plt.ylabel('Frequency')\n",
        "\n",
        "# Plot histogram for 'span_len'\n",
        "plt.subplot(1, 2, 2)\n",
        "sns.histplot(span_len, kde=False, bins=30)\n",
        "plt.title('Spanish Sentence Lengths')\n",
        "plt.xlabel('Length')\n",
        "plt.ylabel('Frequency')\n",
        "\n",
        "plt.tight_layout()\n",
        "plt.show()"
      ],
      "metadata": {
        "colab": {
          "base_uri": "https://localhost:8080/",
          "height": 476
        },
        "id": "ynDVFxkbaWvs",
        "outputId": "5fbe43a8-de28-4d6e-e9e7-fba9a234cece"
      },
      "execution_count": null,
      "outputs": [
        {
          "output_type": "stream",
          "name": "stdout",
          "text": [
            "English mean sentence length: 31.560488887394506\n",
            "Spanish mean sentence length: 33.00633805184762\n"
          ]
        },
        {
          "output_type": "display_data",
          "data": {
            "text/plain": [
              "<Figure size 1200x600 with 2 Axes>"
            ],
            "image/png": "[encoded data removed]"
          },
          "metadata": {}
        }
      ]
    },
    {
      "cell_type": "markdown",
      "source": [
        "The average sentence length is slightly longer for Spanish than for English. This disparity should be handled during preprocessing which will pad the sentences to be the same length"
      ],
      "metadata": {
        "id": "HVVMjx0ocky8"
      }
    },
    {
      "cell_type": "code",
      "source": [
        "def words_per_sentence(sentence: str) -> int:\n",
        "  split_sentence = sentence.split(' ')\n",
        "  return len(split_sentence)\n",
        "\n",
        "eng_words = df['english'].apply(words_per_sentence)\n",
        "span_words = df['spanish'].apply(words_per_sentence)\n",
        "eng_word_mean = eng_words.mean()\n",
        "span_word_mean = span_words.mean()\n",
        "print(f'Average word count per English sentence: {eng_word_mean}')\n",
        "print(f'Average word count per Spanish sentence: {span_word_mean}')\n",
        "\n",
        "plt.figure(figsize=(12, 6))\n",
        "\n",
        "# Plot histogram for 'eng_len'\n",
        "plt.subplot(1, 2, 1)\n",
        "sns.histplot(eng_words, kde=False, bins=30)\n",
        "plt.title('English Words per Sentence')\n",
        "plt.xlabel('Words')\n",
        "plt.ylabel('Frequency')\n",
        "\n",
        "# Plot histogram for 'span_len'\n",
        "plt.subplot(1, 2, 2)\n",
        "sns.histplot(span_words, kde=False, bins=30)\n",
        "plt.title('Spanish Words per Sentence')\n",
        "plt.xlabel('Words')\n",
        "plt.ylabel('Frequency')\n",
        "\n",
        "plt.tight_layout()\n",
        "plt.show()"
      ],
      "metadata": {
        "colab": {
          "base_uri": "https://localhost:8080/",
          "height": 476
        },
        "id": "upcQ5m27b9Bv",
        "outputId": "a2371981-8bb7-440c-e64e-a93e2dad2e80"
      },
      "execution_count": null,
      "outputs": [
        {
          "output_type": "stream",
          "name": "stdout",
          "text": [
            "Average word count per English sentence: 6.310362798829898\n",
            "Average word count per Spanish sentence: 6.083874113177096\n"
          ]
        },
        {
          "output_type": "display_data",
          "data": {
            "text/plain": [
              "<Figure size 1200x600 with 2 Axes>"
            ],
            "image/png": "[encoded data removed]"
          },
          "metadata": {}
        }
      ]
    },
    {
      "cell_type": "markdown",
      "source": [
        "# Plan of Analysis/Data Cleaning\n",
        "Based on the EDA I will need to do some data cleaning before training my model. First, I will convert all capital letters to lowercase. Unlike German, Spanish and English do not use capital letters to convey meaning and inconsistent capitalization could lead to translation errors.\n",
        "\n",
        "I will remove punctuation even though it sometimes conveys meaning. In a production setting I would create a different token for each punctuation mark but with this smaller dataset they are likely to confuse the model.\n",
        "\n",
        "I did not remove numbers because there are instances in the dataset where these symbols convey meaning. There is one sentence pair where '5' is translated to 'cinco'. I want to preserve these instances.\n",
        "\n",
        "Next, I will tokenize the sentences using a different tokenizer for English and Spanish. This process involves building a vocabulary list for both languages, splitting sentences into individual words, then assigning an integer value to each word.\n",
        "\n",
        "I added a start token and end token to each Spanish sentence so the model knows when to stop predicting new Spanish words.\n",
        "\n",
        "There are some natural language processing steps which are not necessary for this dataset including removing URLs, HTML tags, and correcting spelling errors. This dataset is obtained from a flashcard application so should be error-free.\n",
        "\n",
        "Since the goal of the project is to translate sentences word-for-word, I will not standardize the words using stemming or lemmatization. These methods would remove meaning from the data.\n",
        "\n",
        "As can be seen from the graphs above there are some very short sentences in the dataset. I will not remove these as outliers since they add variety to the dataset. There are also instances where a user would want to translate a one or two word sentence including greetings and commands."
      ],
      "metadata": {
        "id": "viF_7_4uXmsE"
      }
    },
    {
      "cell_type": "code",
      "source": [
        "# Split data into training, validation, and test sets\n",
        "random.shuffle(text_pairs)\n",
        "# 15% for validation\n",
        "num_val_samples = int(0.15 * len(text_pairs))\n",
        "# 70% for training, 15% for testing\n",
        "num_train_samples = len(text_pairs) - 2 * num_val_samples\n",
        "\n",
        "train_pairs = text_pairs[:num_train_samples]\n",
        "val_pairs = text_pairs[num_train_samples : num_train_samples + num_val_samples]\n",
        "test_pairs = text_pairs[num_train_samples + num_val_samples :]\n",
        "\n",
        "print(f\"{len(text_pairs)} total pairs\")\n",
        "print(f\"{len(train_pairs)} training pairs\")\n",
        "print(f\"{len(val_pairs)} validation pairs\")\n",
        "print(f\"{len(test_pairs)} test pairs\")"
      ],
      "metadata": {
        "colab": {
          "base_uri": "https://localhost:8080/"
        },
        "id": "R2Tn5vGfrvpj",
        "outputId": "95370fa0-b516-435c-f444-58dd6b4a10cc"
      },
      "execution_count": 12,
      "outputs": [
        {
          "output_type": "stream",
          "name": "stdout",
          "text": [
            "118964 total pairs\n",
            "83276 training pairs\n",
            "17844 validation pairs\n",
            "17844 test pairs\n"
          ]
        }
      ]
    },
    {
      "cell_type": "code",
      "source": [
        "# Custom standardization for Spanish sentences to preserve start/end tokens\n",
        "punctuation = string.punctuation + '¿'\n",
        "punctuation = punctuation.replace('[', '')\n",
        "punctuation = punctuation.replace(']', '')\n",
        "\n",
        "def standardize_text(input_string: str) -> str:\n",
        "  lowercase = tf_strings.lower(input_string)\n",
        "  return tf_strings.regex_replace(lowercase, \"[%s]\" % re.escape(punctuation), \"\")"
      ],
      "metadata": {
        "id": "04jBgnkXsjLK"
      },
      "execution_count": 13,
      "outputs": []
    },
    {
      "cell_type": "code",
      "source": [
        "vocab_size = 15000\n",
        "MAX_SEQUENCE_LENGTH = 40\n",
        "BATCH_SIZE = 64\n",
        "\n",
        "eng_vectorization = TextVectorization(\n",
        "    max_tokens=vocab_size,\n",
        "    output_mode=\"int\",\n",
        "    output_sequence_length=MAX_SEQUENCE_LENGTH,\n",
        ")\n",
        "spa_vectorization = TextVectorization(\n",
        "    max_tokens=vocab_size,\n",
        "    output_mode=\"int\",\n",
        "    output_sequence_length=MAX_SEQUENCE_LENGTH + 1,\n",
        "    standardize=standardize_text,\n",
        ")\n",
        "train_eng_texts = [pair[0] for pair in train_pairs]\n",
        "train_spa_texts = [pair[1] for pair in train_pairs]\n",
        "eng_vectorization.adapt(train_eng_texts)\n",
        "spa_vectorization.adapt(train_spa_texts)"
      ],
      "metadata": {
        "id": "34sA7YY2FrrU"
      },
      "execution_count": 17,
      "outputs": []
    },
    {
      "cell_type": "markdown",
      "source": [
        "The encoder-decoder Transformer model will predict the next word in the target sentence at each training step. It will use the English sentence and Spanish sentence so far to make this prediction. I added START and END tokens to each Spanish sentence so the model knows when to stop predicting new words. This structure is essential to allowing the model to translate word-by-word."
      ],
      "metadata": {
        "id": "cdLxiZx6j7cG"
      }
    },
    {
      "cell_type": "code",
      "source": [
        "def format_dataset(eng, spa):\n",
        "    eng = eng_vectorization(eng)\n",
        "    spa = spa_vectorization(spa)\n",
        "    return (\n",
        "        {\n",
        "            \"encoder_inputs\": eng,\n",
        "            # because decoder needs to predict next word in sequence the input should be preceding words\n",
        "            \"decoder_inputs\": spa[:, :-1],\n",
        "        },\n",
        "        # target sequence is offset by one\n",
        "        spa[:, 1:],\n",
        "    )\n",
        "\n",
        "def make_dataset(pairs):\n",
        "    eng_texts, spa_texts = zip(*pairs)\n",
        "    eng_texts = list(eng_texts)\n",
        "    spa_texts = list(spa_texts)\n",
        "    dataset = tf_data.Dataset.from_tensor_slices((eng_texts, spa_texts))\n",
        "    dataset = dataset.batch(BATCH_SIZE)\n",
        "    dataset = dataset.map(format_dataset)\n",
        "    return dataset.cache().shuffle(2048).prefetch(16)\n",
        "\n",
        "\n",
        "train_ds = make_dataset(train_pairs)\n",
        "val_ds = make_dataset(val_pairs)\n",
        "\n",
        "for inputs, targets in train_ds.take(1):\n",
        "    print(f'inputs[\"encoder_inputs\"].shape: {inputs[\"encoder_inputs\"].shape}')\n",
        "    print(f'inputs[\"decoder_inputs\"].shape: {inputs[\"decoder_inputs\"].shape}')\n",
        "    print(f\"targets.shape: {targets.shape}\")"
      ],
      "metadata": {
        "colab": {
          "base_uri": "https://localhost:8080/"
        },
        "id": "RalqJsu8GPMD",
        "outputId": "83d21cef-16d1-45e4-b228-67a1434271b9"
      },
      "execution_count": 16,
      "outputs": [
        {
          "output_type": "stream",
          "name": "stdout",
          "text": [
            "inputs[\"encoder_inputs\"].shape: (64, 20)\n",
            "inputs[\"decoder_inputs\"].shape: (64, 20)\n",
            "targets.shape: (64, 20)\n"
          ]
        }
      ]
    },
    {
      "cell_type": "markdown",
      "source": [
        "# Model Building and Training\n",
        "Based on the structure of the data and the sequence-sequence task of translating sentences I will use an encoder-decoder Transformer architecture.\n",
        "\n",
        "I will start with an positional embedding layer which makes the model aware of word order\n",
        "\n",
        "The encoder layer analyses the input sequence and distills the meaning down to a context vector. The context vector summarizes the entire input sequence in a single fixed-length vector.\n",
        "\n",
        "The decoder takes the context vector from the encoder and the target sequence so far. It seeks to predict the next words in the target sequence. Causal masking ensures the decoder only uses information from the target sequence so far. If it could use information from the future (what it is trying to predict) it would not be generalizable."
      ],
      "metadata": {
        "id": "rKBuRB16XmhJ"
      }
    },
    {
      "cell_type": "code",
      "source": [
        "class TransformerEncoder(layers.Layer):\n",
        "    def __init__(self, embed_dim, dense_dim, num_heads, **kwargs):\n",
        "        super().__init__(**kwargs)\n",
        "        self.embed_dim = embed_dim\n",
        "        self.dense_dim = dense_dim\n",
        "        self.num_heads = num_heads\n",
        "        # allow model to weigh different parts of input differently\n",
        "        self.attention = layers.MultiHeadAttention(\n",
        "            num_heads=num_heads, key_dim=embed_dim\n",
        "        )\n",
        "        # combine and compress information\n",
        "        self.dense_proj = keras.Sequential(\n",
        "            [\n",
        "                layers.Dense(dense_dim, activation=\"relu\"),\n",
        "                layers.Dense(embed_dim),\n",
        "            ]\n",
        "        )\n",
        "        self.layernorm_1 = layers.LayerNormalization()\n",
        "        self.layernorm_2 = layers.LayerNormalization()\n",
        "        self.supports_masking = True\n",
        "\n",
        "    def call(self, inputs, mask=None):\n",
        "        if mask is not None:\n",
        "            padding_mask = ops.cast(mask[:, None, :], dtype=\"int32\")\n",
        "        else:\n",
        "            padding_mask = None\n",
        "\n",
        "        attention_output = self.attention(\n",
        "            query=inputs, value=inputs, key=inputs, attention_mask=padding_mask\n",
        "        )\n",
        "        proj_input = self.layernorm_1(inputs + attention_output)\n",
        "        proj_output = self.dense_proj(proj_input)\n",
        "        return self.layernorm_2(proj_input + proj_output)\n",
        "\n",
        "    def get_config(self):\n",
        "        config = super().get_config()\n",
        "        config.update(\n",
        "            {\n",
        "                \"embed_dim\": self.embed_dim,\n",
        "                \"dense_dim\": self.dense_dim,\n",
        "                \"num_heads\": self.num_heads,\n",
        "            }\n",
        "        )\n",
        "        return config\n",
        "\n",
        "\n",
        "class PositionalEmbedding(layers.Layer):\n",
        "    def __init__(self, sequence_length, vocab_size, embed_dim, **kwargs):\n",
        "        super().__init__(**kwargs)\n",
        "        self.token_embeddings = layers.Embedding(\n",
        "            input_dim=vocab_size, output_dim=embed_dim\n",
        "        )\n",
        "        self.position_embeddings = layers.Embedding(\n",
        "            input_dim=sequence_length, output_dim=embed_dim\n",
        "        )\n",
        "        self.sequence_length = sequence_length\n",
        "        self.vocab_size = vocab_size\n",
        "        self.embed_dim = embed_dim\n",
        "\n",
        "    def call(self, inputs):\n",
        "        length = ops.shape(inputs)[-1]\n",
        "        positions = ops.arange(0, length, 1)\n",
        "        embedded_tokens = self.token_embeddings(inputs)\n",
        "        embedded_positions = self.position_embeddings(positions)\n",
        "        return embedded_tokens + embedded_positions\n",
        "\n",
        "    def compute_mask(self, inputs, mask=None):\n",
        "        if mask is None:\n",
        "            return None\n",
        "        else:\n",
        "            return ops.not_equal(inputs, 0)\n",
        "\n",
        "    def get_config(self):\n",
        "        config = super().get_config()\n",
        "        config.update(\n",
        "            {\n",
        "                \"sequence_length\": self.sequence_length,\n",
        "                \"vocab_size\": self.vocab_size,\n",
        "                \"embed_dim\": self.embed_dim,\n",
        "            }\n",
        "        )\n",
        "        return config\n",
        "\n",
        "\n",
        "class TransformerDecoder(layers.Layer):\n",
        "    def __init__(self, embed_dim, latent_dim, num_heads, **kwargs):\n",
        "        super().__init__(**kwargs)\n",
        "        self.embed_dim = embed_dim\n",
        "        self.latent_dim = latent_dim\n",
        "        self.num_heads = num_heads\n",
        "        self.attention_1 = layers.MultiHeadAttention(\n",
        "            num_heads=num_heads, key_dim=embed_dim\n",
        "        )\n",
        "        self.attention_2 = layers.MultiHeadAttention(\n",
        "            num_heads=num_heads, key_dim=embed_dim\n",
        "        )\n",
        "        self.dense_proj = keras.Sequential(\n",
        "            [\n",
        "                layers.Dense(latent_dim, activation=\"relu\"),\n",
        "                layers.Dense(embed_dim),\n",
        "            ]\n",
        "        )\n",
        "        self.layernorm_1 = layers.LayerNormalization()\n",
        "        self.layernorm_2 = layers.LayerNormalization()\n",
        "        self.layernorm_3 = layers.LayerNormalization()\n",
        "        self.supports_masking = True\n",
        "\n",
        "    def call(self, inputs, encoder_outputs, mask=None):\n",
        "        causal_mask = self.get_causal_attention_mask(inputs)\n",
        "        if mask is not None:\n",
        "            padding_mask = ops.cast(mask[:, None, :], dtype=\"int32\")\n",
        "            padding_mask = ops.minimum(padding_mask, causal_mask)\n",
        "        else:\n",
        "            padding_mask = None\n",
        "\n",
        "        attention_output_1 = self.attention_1(\n",
        "            query=inputs, value=inputs, key=inputs, attention_mask=causal_mask\n",
        "        )\n",
        "        out_1 = self.layernorm_1(inputs + attention_output_1)\n",
        "\n",
        "        attention_output_2 = self.attention_2(\n",
        "            query=out_1,\n",
        "            value=encoder_outputs,\n",
        "            key=encoder_outputs,\n",
        "            attention_mask=padding_mask,\n",
        "        )\n",
        "        out_2 = self.layernorm_2(out_1 + attention_output_2)\n",
        "\n",
        "        proj_output = self.dense_proj(out_2)\n",
        "        return self.layernorm_3(out_2 + proj_output)\n",
        "\n",
        "    def get_causal_attention_mask(self, inputs):\n",
        "        input_shape = ops.shape(inputs)\n",
        "        batch_size, sequence_length = input_shape[0], input_shape[1]\n",
        "        i = ops.arange(sequence_length)[:, None]\n",
        "        j = ops.arange(sequence_length)\n",
        "        mask = ops.cast(i >= j, dtype=\"int32\")\n",
        "        mask = ops.reshape(mask, (1, input_shape[1], input_shape[1]))\n",
        "        mult = ops.concatenate(\n",
        "            [ops.expand_dims(batch_size, -1), ops.convert_to_tensor([1, 1])],\n",
        "            axis=0,\n",
        "        )\n",
        "        return ops.tile(mask, mult)\n",
        "\n",
        "    def get_config(self):\n",
        "        config = super().get_config()\n",
        "        config.update(\n",
        "            {\n",
        "                \"embed_dim\": self.embed_dim,\n",
        "                \"latent_dim\": self.latent_dim,\n",
        "                \"num_heads\": self.num_heads,\n",
        "            }\n",
        "        )\n",
        "        return config"
      ],
      "metadata": {
        "id": "-dqa6QM7XQd8"
      },
      "execution_count": 27,
      "outputs": []
    },
    {
      "cell_type": "code",
      "source": [
        "# Assemble the Model\n",
        "embed_dim = 256\n",
        "latent_dim = 2048\n",
        "num_heads = 8\n",
        "\n",
        "# ENCODER\n",
        "encoder_inputs = keras.Input(shape=(None,), dtype=\"int64\", name=\"encoder_inputs\")\n",
        "x = PositionalEmbedding(MAX_SEQUENCE_LENGTH, vocab_size, embed_dim)(encoder_inputs)\n",
        "encoder_outputs = TransformerEncoder(embed_dim, latent_dim, num_heads)(x)\n",
        "encoder = keras.Model(encoder_inputs, encoder_outputs)\n",
        "\n",
        "# DECODER\n",
        "decoder_inputs = keras.Input(shape=(None,), dtype=\"int64\", name=\"decoder_inputs\")\n",
        "encoded_seq_inputs = keras.Input(shape=(None, embed_dim), name=\"decoder_state_inputs\")\n",
        "x = PositionalEmbedding(MAX_SEQUENCE_LENGTH, vocab_size, embed_dim)(decoder_inputs)\n",
        "x = TransformerDecoder(embed_dim, latent_dim, num_heads)(x, encoded_seq_inputs)\n",
        "x = layers.Dropout(0.5)(x)\n",
        "decoder_outputs = layers.Dense(vocab_size, activation=\"softmax\")(x)\n",
        "decoder = keras.Model([decoder_inputs, encoded_seq_inputs], decoder_outputs)\n",
        "\n",
        "decoder_outputs = decoder([decoder_inputs, encoder_outputs])\n",
        "transformer = keras.Model(\n",
        "    [encoder_inputs, decoder_inputs], decoder_outputs, name=\"transformer\"\n",
        ")\n",
        "\n",
        "transformer.summary()"
      ],
      "metadata": {
        "colab": {
          "base_uri": "https://localhost:8080/",
          "height": 369
        },
        "id": "on-FatoiK1-C",
        "outputId": "e6cb29c0-061b-4630-b1dc-8851cb582dc2"
      },
      "execution_count": 32,
      "outputs": [
        {
          "output_type": "display_data",
          "data": {
            "text/plain": [
              "\u001b[1mModel: \"transformer\"\u001b[0m\n"
            ],
            "text/html": [
              "<pre style=\"white-space:pre;overflow-x:auto;line-height:normal;font-family:Menlo,'DejaVu Sans Mono',consolas,'Courier New',monospace\"><span style=\"font-weight: bold\">Model: \"transformer\"</span>\n",
              "</pre>\n"
            ]
          },
          "metadata": {}
        },
        {
          "output_type": "display_data",
          "data": {
            "text/plain": [
              "┏━━━━━━━━━━━━━━━━━━━━━━━━━━━┳━━━━━━━━━━━━━━━━━━━━━━━━┳━━━━━━━━━━━━━━━━┳━━━━━━━━━━━━━━━━━━━━━━━━┓\n",
              "┃\u001b[1m \u001b[0m\u001b[1mLayer (type)             \u001b[0m\u001b[1m \u001b[0m┃\u001b[1m \u001b[0m\u001b[1mOutput Shape          \u001b[0m\u001b[1m \u001b[0m┃\u001b[1m \u001b[0m\u001b[1m       Param #\u001b[0m\u001b[1m \u001b[0m┃\u001b[1m \u001b[0m\u001b[1mConnected to          \u001b[0m\u001b[1m \u001b[0m┃\n",
              "┡━━━━━━━━━━━━━━━━━━━━━━━━━━━╇━━━━━━━━━━━━━━━━━━━━━━━━╇━━━━━━━━━━━━━━━━╇━━━━━━━━━━━━━━━━━━━━━━━━┩\n",
              "│ encoder_inputs            │ (\u001b[38;5;45mNone\u001b[0m, \u001b[38;5;45mNone\u001b[0m)           │              \u001b[38;5;34m0\u001b[0m │ -                      │\n",
              "│ (\u001b[38;5;33mInputLayer\u001b[0m)              │                        │                │                        │\n",
              "├───────────────────────────┼────────────────────────┼────────────────┼────────────────────────┤\n",
              "│ positional_embedding_2    │ (\u001b[38;5;45mNone\u001b[0m, \u001b[38;5;45mNone\u001b[0m, \u001b[38;5;34m256\u001b[0m)      │      \u001b[38;5;34m3,850,240\u001b[0m │ encoder_inputs[\u001b[38;5;34m0\u001b[0m][\u001b[38;5;34m0\u001b[0m]   │\n",
              "│ (\u001b[38;5;33mPositionalEmbedding\u001b[0m)     │                        │                │                        │\n",
              "├───────────────────────────┼────────────────────────┼────────────────┼────────────────────────┤\n",
              "│ decoder_inputs            │ (\u001b[38;5;45mNone\u001b[0m, \u001b[38;5;45mNone\u001b[0m)           │              \u001b[38;5;34m0\u001b[0m │ -                      │\n",
              "│ (\u001b[38;5;33mInputLayer\u001b[0m)              │                        │                │                        │\n",
              "├───────────────────────────┼────────────────────────┼────────────────┼────────────────────────┤\n",
              "│ transformer_encoder_2     │ (\u001b[38;5;45mNone\u001b[0m, \u001b[38;5;45mNone\u001b[0m, \u001b[38;5;34m256\u001b[0m)      │      \u001b[38;5;34m3,155,456\u001b[0m │ positional_embedding_… │\n",
              "│ (\u001b[38;5;33mTransformerEncoder\u001b[0m)      │                        │                │                        │\n",
              "├───────────────────────────┼────────────────────────┼────────────────┼────────────────────────┤\n",
              "│ functional_9 (\u001b[38;5;33mFunctional\u001b[0m) │ (\u001b[38;5;45mNone\u001b[0m, \u001b[38;5;45mNone\u001b[0m, \u001b[38;5;34m15000\u001b[0m)    │     \u001b[38;5;34m12,964,760\u001b[0m │ decoder_inputs[\u001b[38;5;34m0\u001b[0m][\u001b[38;5;34m0\u001b[0m],  │\n",
              "│                           │                        │                │ transformer_encoder_2… │\n",
              "└───────────────────────────┴────────────────────────┴────────────────┴────────────────────────┘\n"
            ],
            "text/html": [
              "<pre style=\"white-space:pre;overflow-x:auto;line-height:normal;font-family:Menlo,'DejaVu Sans Mono',consolas,'Courier New',monospace\">┏━━━━━━━━━━━━━━━━━━━━━━━━━━━┳━━━━━━━━━━━━━━━━━━━━━━━━┳━━━━━━━━━━━━━━━━┳━━━━━━━━━━━━━━━━━━━━━━━━┓\n",
              "┃<span style=\"font-weight: bold\"> Layer (type)              </span>┃<span style=\"font-weight: bold\"> Output Shape           </span>┃<span style=\"font-weight: bold\">        Param # </span>┃<span style=\"font-weight: bold\"> Connected to           </span>┃\n",
              "┡━━━━━━━━━━━━━━━━━━━━━━━━━━━╇━━━━━━━━━━━━━━━━━━━━━━━━╇━━━━━━━━━━━━━━━━╇━━━━━━━━━━━━━━━━━━━━━━━━┩\n",
              "│ encoder_inputs            │ (<span style=\"color: #00d7ff; text-decoration-color: #00d7ff\">None</span>, <span style=\"color: #00d7ff; text-decoration-color: #00d7ff\">None</span>)           │              <span style=\"color: #00af00; text-decoration-color: #00af00\">0</span> │ -                      │\n",
              "│ (<span style=\"color: #0087ff; text-decoration-color: #0087ff\">InputLayer</span>)              │                        │                │                        │\n",
              "├───────────────────────────┼────────────────────────┼────────────────┼────────────────────────┤\n",
              "│ positional_embedding_2    │ (<span style=\"color: #00d7ff; text-decoration-color: #00d7ff\">None</span>, <span style=\"color: #00d7ff; text-decoration-color: #00d7ff\">None</span>, <span style=\"color: #00af00; text-decoration-color: #00af00\">256</span>)      │      <span style=\"color: #00af00; text-decoration-color: #00af00\">3,850,240</span> │ encoder_inputs[<span style=\"color: #00af00; text-decoration-color: #00af00\">0</span>][<span style=\"color: #00af00; text-decoration-color: #00af00\">0</span>]   │\n",
              "│ (<span style=\"color: #0087ff; text-decoration-color: #0087ff\">PositionalEmbedding</span>)     │                        │                │                        │\n",
              "├───────────────────────────┼────────────────────────┼────────────────┼────────────────────────┤\n",
              "│ decoder_inputs            │ (<span style=\"color: #00d7ff; text-decoration-color: #00d7ff\">None</span>, <span style=\"color: #00d7ff; text-decoration-color: #00d7ff\">None</span>)           │              <span style=\"color: #00af00; text-decoration-color: #00af00\">0</span> │ -                      │\n",
              "│ (<span style=\"color: #0087ff; text-decoration-color: #0087ff\">InputLayer</span>)              │                        │                │                        │\n",
              "├───────────────────────────┼────────────────────────┼────────────────┼────────────────────────┤\n",
              "│ transformer_encoder_2     │ (<span style=\"color: #00d7ff; text-decoration-color: #00d7ff\">None</span>, <span style=\"color: #00d7ff; text-decoration-color: #00d7ff\">None</span>, <span style=\"color: #00af00; text-decoration-color: #00af00\">256</span>)      │      <span style=\"color: #00af00; text-decoration-color: #00af00\">3,155,456</span> │ positional_embedding_… │\n",
              "│ (<span style=\"color: #0087ff; text-decoration-color: #0087ff\">TransformerEncoder</span>)      │                        │                │                        │\n",
              "├───────────────────────────┼────────────────────────┼────────────────┼────────────────────────┤\n",
              "│ functional_9 (<span style=\"color: #0087ff; text-decoration-color: #0087ff\">Functional</span>) │ (<span style=\"color: #00d7ff; text-decoration-color: #00d7ff\">None</span>, <span style=\"color: #00d7ff; text-decoration-color: #00d7ff\">None</span>, <span style=\"color: #00af00; text-decoration-color: #00af00\">15000</span>)    │     <span style=\"color: #00af00; text-decoration-color: #00af00\">12,964,760</span> │ decoder_inputs[<span style=\"color: #00af00; text-decoration-color: #00af00\">0</span>][<span style=\"color: #00af00; text-decoration-color: #00af00\">0</span>],  │\n",
              "│                           │                        │                │ transformer_encoder_2… │\n",
              "└───────────────────────────┴────────────────────────┴────────────────┴────────────────────────┘\n",
              "</pre>\n"
            ]
          },
          "metadata": {}
        },
        {
          "output_type": "display_data",
          "data": {
            "text/plain": [
              "\u001b[1m Total params: \u001b[0m\u001b[38;5;34m19,970,456\u001b[0m (76.18 MB)\n"
            ],
            "text/html": [
              "<pre style=\"white-space:pre;overflow-x:auto;line-height:normal;font-family:Menlo,'DejaVu Sans Mono',consolas,'Courier New',monospace\"><span style=\"font-weight: bold\"> Total params: </span><span style=\"color: #00af00; text-decoration-color: #00af00\">19,970,456</span> (76.18 MB)\n",
              "</pre>\n"
            ]
          },
          "metadata": {}
        },
        {
          "output_type": "display_data",
          "data": {
            "text/plain": [
              "\u001b[1m Trainable params: \u001b[0m\u001b[38;5;34m19,970,456\u001b[0m (76.18 MB)\n"
            ],
            "text/html": [
              "<pre style=\"white-space:pre;overflow-x:auto;line-height:normal;font-family:Menlo,'DejaVu Sans Mono',consolas,'Courier New',monospace\"><span style=\"font-weight: bold\"> Trainable params: </span><span style=\"color: #00af00; text-decoration-color: #00af00\">19,970,456</span> (76.18 MB)\n",
              "</pre>\n"
            ]
          },
          "metadata": {}
        },
        {
          "output_type": "display_data",
          "data": {
            "text/plain": [
              "\u001b[1m Non-trainable params: \u001b[0m\u001b[38;5;34m0\u001b[0m (0.00 B)\n"
            ],
            "text/html": [
              "<pre style=\"white-space:pre;overflow-x:auto;line-height:normal;font-family:Menlo,'DejaVu Sans Mono',consolas,'Courier New',monospace\"><span style=\"font-weight: bold\"> Non-trainable params: </span><span style=\"color: #00af00; text-decoration-color: #00af00\">0</span> (0.00 B)\n",
              "</pre>\n"
            ]
          },
          "metadata": {}
        }
      ]
    },
    {
      "cell_type": "code",
      "source": [
        "transformer.compile(\n",
        "    Adam(learning_rate=0.0001), loss='sparse_categorical_crossentropy', metrics=['accuracy']\n",
        ")\n",
        "history = transformer.fit(train_ds, epochs=20, validation_data=val_ds)"
      ],
      "metadata": {
        "colab": {
          "base_uri": "https://localhost:8080/"
        },
        "id": "JMIlA0LHX0LZ",
        "outputId": "1b74103c-b044-47e0-c550-6abfd65271ed"
      },
      "execution_count": 35,
      "outputs": [
        {
          "output_type": "stream",
          "name": "stdout",
          "text": [
            "Epoch 1/20\n",
            "\u001b[1m1302/1302\u001b[0m \u001b[32m━━━━━━━━━━━━━━━━━━━━\u001b[0m\u001b[37m\u001b[0m \u001b[1m83s\u001b[0m 54ms/step - accuracy: 0.6939 - loss: 3.4134 - val_accuracy: 0.9182 - val_loss: 0.7393\n",
            "Epoch 2/20\n",
            "\u001b[1m1302/1302\u001b[0m \u001b[32m━━━━━━━━━━━━━━━━━━━━\u001b[0m\u001b[37m\u001b[0m \u001b[1m72s\u001b[0m 51ms/step - accuracy: 0.9293 - loss: 0.6534 - val_accuracy: 0.9796 - val_loss: 0.3375\n",
            "Epoch 3/20\n",
            "\u001b[1m1302/1302\u001b[0m \u001b[32m━━━━━━━━━━━━━━━━━━━━\u001b[0m\u001b[37m\u001b[0m \u001b[1m64s\u001b[0m 49ms/step - accuracy: 0.9722 - loss: 0.3364 - val_accuracy: 0.9926 - val_loss: 0.1953\n",
            "Epoch 4/20\n",
            "\u001b[1m1302/1302\u001b[0m \u001b[32m━━━━━━━━━━━━━━━━━━━━\u001b[0m\u001b[37m\u001b[0m \u001b[1m64s\u001b[0m 49ms/step - accuracy: 0.9861 - loss: 0.2086 - val_accuracy: 0.9954 - val_loss: 0.1242\n",
            "Epoch 5/20\n",
            "\u001b[1m1302/1302\u001b[0m \u001b[32m━━━━━━━━━━━━━━━━━━━━\u001b[0m\u001b[37m\u001b[0m \u001b[1m84s\u001b[0m 50ms/step - accuracy: 0.9915 - loss: 0.1396 - val_accuracy: 0.9965 - val_loss: 0.0846\n",
            "Epoch 6/20\n",
            "\u001b[1m1302/1302\u001b[0m \u001b[32m━━━━━━━━━━━━━━━━━━━━\u001b[0m\u001b[37m\u001b[0m \u001b[1m82s\u001b[0m 50ms/step - accuracy: 0.9937 - loss: 0.0980 - val_accuracy: 0.9968 - val_loss: 0.0603\n",
            "Epoch 7/20\n",
            "\u001b[1m1302/1302\u001b[0m \u001b[32m━━━━━━━━━━━━━━━━━━━━\u001b[0m\u001b[37m\u001b[0m \u001b[1m82s\u001b[0m 50ms/step - accuracy: 0.9952 - loss: 0.0708 - val_accuracy: 0.9969 - val_loss: 0.0461\n",
            "Epoch 8/20\n",
            "\u001b[1m1302/1302\u001b[0m \u001b[32m━━━━━━━━━━━━━━━━━━━━\u001b[0m\u001b[37m\u001b[0m \u001b[1m63s\u001b[0m 48ms/step - accuracy: 0.9961 - loss: 0.0523 - val_accuracy: 0.9981 - val_loss: 0.0294\n",
            "Epoch 9/20\n",
            "\u001b[1m1302/1302\u001b[0m \u001b[32m━━━━━━━━━━━━━━━━━━━━\u001b[0m\u001b[37m\u001b[0m \u001b[1m82s\u001b[0m 49ms/step - accuracy: 0.9975 - loss: 0.0344 - val_accuracy: 0.9989 - val_loss: 0.0189\n",
            "Epoch 10/20\n",
            "\u001b[1m1302/1302\u001b[0m \u001b[32m━━━━━━━━━━━━━━━━━━━━\u001b[0m\u001b[37m\u001b[0m \u001b[1m62s\u001b[0m 48ms/step - accuracy: 0.9980 - loss: 0.0246 - val_accuracy: 0.9990 - val_loss: 0.0145\n",
            "Epoch 11/20\n",
            "\u001b[1m1302/1302\u001b[0m \u001b[32m━━━━━━━━━━━━━━━━━━━━\u001b[0m\u001b[37m\u001b[0m \u001b[1m63s\u001b[0m 48ms/step - accuracy: 0.9984 - loss: 0.0181 - val_accuracy: 0.9990 - val_loss: 0.0118\n",
            "Epoch 12/20\n",
            "\u001b[1m1302/1302\u001b[0m \u001b[32m━━━━━━━━━━━━━━━━━━━━\u001b[0m\u001b[37m\u001b[0m \u001b[1m84s\u001b[0m 50ms/step - accuracy: 0.9988 - loss: 0.0133 - val_accuracy: 0.9990 - val_loss: 0.0107\n",
            "Epoch 13/20\n",
            "\u001b[1m1302/1302\u001b[0m \u001b[32m━━━━━━━━━━━━━━━━━━━━\u001b[0m\u001b[37m\u001b[0m \u001b[1m82s\u001b[0m 50ms/step - accuracy: 0.9990 - loss: 0.0103 - val_accuracy: 0.9991 - val_loss: 0.0094\n",
            "Epoch 14/20\n",
            "\u001b[1m1302/1302\u001b[0m \u001b[32m━━━━━━━━━━━━━━━━━━━━\u001b[0m\u001b[37m\u001b[0m \u001b[1m64s\u001b[0m 49ms/step - accuracy: 0.9992 - loss: 0.0081 - val_accuracy: 0.9990 - val_loss: 0.0092\n",
            "Epoch 15/20\n",
            "\u001b[1m1302/1302\u001b[0m \u001b[32m━━━━━━━━━━━━━━━━━━━━\u001b[0m\u001b[37m\u001b[0m \u001b[1m82s\u001b[0m 49ms/step - accuracy: 0.9990 - loss: 0.0081 - val_accuracy: 0.9991 - val_loss: 0.0086\n",
            "Epoch 16/20\n",
            "\u001b[1m1302/1302\u001b[0m \u001b[32m━━━━━━━━━━━━━━━━━━━━\u001b[0m\u001b[37m\u001b[0m \u001b[1m82s\u001b[0m 49ms/step - accuracy: 0.9995 - loss: 0.0044 - val_accuracy: 0.9990 - val_loss: 0.0083\n",
            "Epoch 17/20\n",
            "\u001b[1m1302/1302\u001b[0m \u001b[32m━━━━━━━━━━━━━━━━━━━━\u001b[0m\u001b[37m\u001b[0m \u001b[1m62s\u001b[0m 48ms/step - accuracy: 0.9996 - loss: 0.0033 - val_accuracy: 0.9991 - val_loss: 0.0077\n",
            "Epoch 18/20\n",
            "\u001b[1m1302/1302\u001b[0m \u001b[32m━━━━━━━━━━━━━━━━━━━━\u001b[0m\u001b[37m\u001b[0m \u001b[1m83s\u001b[0m 49ms/step - accuracy: 0.9996 - loss: 0.0027 - val_accuracy: 0.9992 - val_loss: 0.0073\n",
            "Epoch 19/20\n",
            "\u001b[1m1302/1302\u001b[0m \u001b[32m━━━━━━━━━━━━━━━━━━━━\u001b[0m\u001b[37m\u001b[0m \u001b[1m64s\u001b[0m 49ms/step - accuracy: 0.9997 - loss: 0.0020 - val_accuracy: 0.9992 - val_loss: 0.0075\n",
            "Epoch 20/20\n",
            "\u001b[1m1302/1302\u001b[0m \u001b[32m━━━━━━━━━━━━━━━━━━━━\u001b[0m\u001b[37m\u001b[0m \u001b[1m64s\u001b[0m 49ms/step - accuracy: 0.9998 - loss: 0.0015 - val_accuracy: 0.9992 - val_loss: 0.0077\n"
          ]
        }
      ]
    },
    {
      "cell_type": "code",
      "source": [
        "h = history.history\n",
        "print(h.keys())\n",
        "epoch_range = range(1, len(h['loss'])+1)\n",
        "\n",
        "plt.figure(figsize=[12,4])\n",
        "n = int(len(h.keys()) / 2)\n",
        "\n",
        "# Plot accuracy\n",
        "plt.subplot(1,3,1)\n",
        "plt.plot(epoch_range, h['accuracy'], label='Training')\n",
        "plt.plot(epoch_range, h['val_accuracy'], label='Validation')\n",
        "plt.xlabel('Epoch'); plt.ylabel('Accuracy'); plt.title('Accuracy')\n",
        "plt.grid()\n",
        "plt.legend()\n",
        "\n",
        "# Plot Loss\n",
        "plt.subplot(1,3,2)\n",
        "plt.plot(epoch_range, h['loss'], label='Training')\n",
        "plt.plot(epoch_range, h['val_loss'], label='Validation')\n",
        "plt.xlabel('Epoch'); plt.ylabel('Loss'); plt.title('Loss')\n",
        "plt.grid()\n",
        "plt.legend()"
      ],
      "metadata": {
        "colab": {
          "base_uri": "https://localhost:8080/",
          "height": 445
        },
        "id": "_w4v8ew7aVwr",
        "outputId": "f0e091e2-ab6f-4037-8eda-79640d7c3ee4"
      },
      "execution_count": 36,
      "outputs": [
        {
          "output_type": "stream",
          "name": "stdout",
          "text": [
            "dict_keys(['accuracy', 'loss', 'val_accuracy', 'val_loss'])\n"
          ]
        },
        {
          "output_type": "execute_result",
          "data": {
            "text/plain": [
              "<matplotlib.legend.Legend at 0x79b238c862c0>"
            ]
          },
          "metadata": {},
          "execution_count": 36
        },
        {
          "output_type": "display_data",
          "data": {
            "text/plain": [
              "<Figure size 1200x400 with 2 Axes>"
            ],
            "image/png": "[encoded data removed]"
          },
          "metadata": {}
        }
      ]
    },
    {
      "cell_type": "markdown",
      "source": [
        "## Hyperparameter Tuning\n",
        "I tried tuning multiple hyperparameters manually to improve the performance of the model. I started using rmsprop as the optimizer but switched to Adam. Both optimizers squash the learning rate based on the current loss function gradient but adam incorporates momentum differently. This results in a model that is better able to escape local minima in the loss gradient.\n",
        "\n",
        "I also tried different learning rates. I started with the default adam rate of 0.001 which resulted in a validation accuracy of 0.9558. I decreased the learning rate to 0.0001 and increased the number of epochs to 20. This improved validation accuracy to 0.9992.\n",
        "\n",
        "I tried multiple data preparation methods as well including padding input sentences to a fixed length."
      ],
      "metadata": {
        "id": "_fPteCEeUr2R"
      }
    },
    {
      "cell_type": "markdown",
      "source": [
        "## Qualitative Analysis\n",
        "I will feed into the model tokenized English sentences from the test dataset which have not been seen by the model. The model outputs the probabilities of the next token which I will use to generate a translated sentence.\n",
        "\n",
        "The test sentences were cleaned in the same way as the train and validation sentences. The will be encoded using the tokenizer built on the training set."
      ],
      "metadata": {
        "id": "WTiGbzQlDovQ"
      }
    },
    {
      "cell_type": "code",
      "source": [
        "spa_vocab = spa_vectorization.get_vocabulary()\n",
        "spa_index_lookup = dict(zip(range(len(spa_vocab)), spa_vocab))\n",
        "\n",
        "def decode_sequence(input_sentence, model):\n",
        "    tokenized_input_sentence = eng_vectorization([input_sentence])\n",
        "    decoded_sentence = \"[start]\"\n",
        "    for i in range(MAX_SEQUENCE_LENGTH):\n",
        "        tokenized_target_sentence = spa_vectorization([decoded_sentence])[:, :-1]\n",
        "        # returns probabilities of different words\n",
        "        predictions = model([tokenized_input_sentence, tokenized_target_sentence])\n",
        "\n",
        "        # pick the most probable next word\n",
        "        sampled_token_index = ops.convert_to_numpy(\n",
        "            ops.argmax(predictions[0, i, :])\n",
        "        ).item(0)\n",
        "        sampled_token = spa_index_lookup[sampled_token_index]\n",
        "        decoded_sentence += \" \" + sampled_token\n",
        "\n",
        "        if sampled_token == \"[end]\":\n",
        "            break\n",
        "    return decoded_sentence\n",
        "\n",
        "test_eng_texts = [pair[0] for pair in test_pairs]\n",
        "for _ in range(5):\n",
        "    input_sentence = random.choice(test_eng_texts)\n",
        "    translated = decode_sequence(input_sentence, transformer)\n",
        "    print(input_sentence, translated)"
      ],
      "metadata": {
        "colab": {
          "base_uri": "https://localhost:8080/"
        },
        "id": "u1diSms7JzX1",
        "outputId": "f9c5baf1-72de-4c1a-b541-437e24906c6d"
      },
      "execution_count": 53,
      "outputs": [
        {
          "output_type": "stream",
          "name": "stdout",
          "text": [
            "This sofa takes too much room. [start] abandonó compañía están día tenía                                   \n",
            "Mary is a good-looking woman. [start] tom no hacerme querés                                    \n",
            "The cage is open. [start] queráis tom espero                                     \n",
            "Why does everything happen to me? [start] maría cuánto país de una                                   \n",
            "I helped him yesterday. [start] asunto este vas                                     \n"
          ]
        }
      ]
    },
    {
      "cell_type": "code",
      "source": [
        "# Evaluate Transformer Model on unseen data\n",
        "bleu_scores = np.zeros((30,))\n",
        "meteor_scores = np.zeros((30,))\n",
        "for i, test_pair in enumerate(test_pairs[:30]):\n",
        "    input_sentence = test_pair[0]\n",
        "    reference_sentence = test_pair[1].split(' ')\n",
        "\n",
        "    translated_sentence = decode_sequence([input_sentence], transformer)\n",
        "    translated_sentence = (\n",
        "        translated_sentence.replace(\"[START]\", \"\")\n",
        "        .replace(\"[END]\", \"\")\n",
        "        .strip()\n",
        "        .split(' ')\n",
        "    )\n",
        "    # Specify only 1 gram matches\n",
        "    bleu = sentence_bleu([reference_sentence], translated_sentence, weights=(1, 0, 0, 0))\n",
        "    meteor = meteor_score([reference_sentence], translated_sentence)\n",
        "    bleu_scores[i] = bleu\n",
        "    meteor_scores[i] = meteor\n",
        "\n",
        "print(f'Average BLEU score: {np.mean(bleu_scores, axis=0)}')\n",
        "print(f'Average METEOR score: {np.mean(meteor_scores, axis=0)}')\n"
      ],
      "metadata": {
        "colab": {
          "base_uri": "https://localhost:8080/"
        },
        "id": "8pYEbq42if7G",
        "outputId": "73a3e459-19ef-456c-b822-35ebd6ddc9a2"
      },
      "execution_count": 56,
      "outputs": [
        {
          "output_type": "stream",
          "name": "stdout",
          "text": [
            "Average BLEU score: 0.12364004577219528\n",
            "Average METEOR score: 0.0750118821478954\n"
          ]
        }
      ]
    },
    {
      "cell_type": "markdown",
      "source": [
        "# Results and Analysis\n",
        "\n",
        "Bilingual Evaluation Understudy (BLEU) focuses on precision-based features. It compares the machine translation to several reference translations and gives a score in the range [0,1] for the quality of the translation. It is based on the number of strings shared between the machine translation and the reference translation.[2] On the 30 unseen sentences my transformer model averaged 0.1236, which is pretty low.\n",
        "\n",
        "Metric for Evaluation of Translation with Explicit Ordering (METEOR) scores machine translations on the sentence level. It accounts for synonyms and morphological variants and better reflects a human judge of translation quality.[5] It also gives a score in the range [0,1]. On the 30 unseen sentences my transformer model averaged 0.0750 which is not very high.\n",
        "\n",
        "To further evaluate the performance of my encoder-decoder Transformed architecture I will compare it with a sequence-sequence LSTM model. Recurrent Neural Network models like LSTM or GRU were commonly used for machine translation before Transformers became popular"
      ],
      "metadata": {
        "id": "6Yk8xJECXmOP"
      }
    },
    {
      "cell_type": "code",
      "source": [
        "\n",
        "from tensorflow.keras.layers import LSTM, Dense\n",
        "\n",
        "embed_dim = 256\n",
        "latent_dim = 2048\n",
        "num_heads = 8\n",
        "\n",
        "# Encoder\n",
        "encoder_inputs = keras.Input(shape=(None,), dtype=\"int64\", name=\"encoder_inputs\")\n",
        "x = PositionalEmbedding(MAX_SEQUENCE_LENGTH, vocab_size, embed_dim)(encoder_inputs)\n",
        "# LSTM\n",
        "encoder_lstm = keras.layers.LSTM(units=embed_dim, return_state=True)\n",
        "encoder_outputs, state_h, state_c = encoder_lstm(x)\n",
        "encoder_states = [state_h, state_c]\n",
        "encoder = keras.Model(encoder_inputs, encoder_outputs)\n",
        "\n",
        "# Decoder\n",
        "decoder_inputs = keras.Input(shape=(None,), dtype=\"int64\", name=\"decoder_inputs\")\n",
        "x = PositionalEmbedding(MAX_SEQUENCE_LENGTH, vocab_size, embed_dim)(decoder_inputs)\n",
        "# LSTM\n",
        "decoder_lstm = keras.layers.LSTM(units=embed_dim, return_sequences=True, return_state=True)\n",
        "decoder_lstm_outputs, _, _ = decoder_lstm(x, initial_state=encoder_states)\n",
        "decoder_outputs = keras.layers.Dense(vocab_size, activation='softmax')(decoder_lstm_outputs)\n",
        "\n",
        "decoder = keras.Model([decoder_inputs, encoded_seq_inputs], decoder_outputs)\n",
        "\n",
        "model= keras.Model([encoder_inputs, decoder_inputs], decoder_outputs, name=\"lstm\")\n",
        "model.summary()"
      ],
      "metadata": {
        "id": "9m76eoywsjoz",
        "colab": {
          "base_uri": "https://localhost:8080/",
          "height": 465
        },
        "outputId": "50c9bcc9-6901-4bfc-8943-fd4a0d2f5e42"
      },
      "execution_count": 54,
      "outputs": [
        {
          "output_type": "display_data",
          "data": {
            "text/plain": [
              "\u001b[1mModel: \"lstm\"\u001b[0m\n"
            ],
            "text/html": [
              "<pre style=\"white-space:pre;overflow-x:auto;line-height:normal;font-family:Menlo,'DejaVu Sans Mono',consolas,'Courier New',monospace\"><span style=\"font-weight: bold\">Model: \"lstm\"</span>\n",
              "</pre>\n"
            ]
          },
          "metadata": {}
        },
        {
          "output_type": "display_data",
          "data": {
            "text/plain": [
              "┏━━━━━━━━━━━━━━━━━━━━━━━━━━━┳━━━━━━━━━━━━━━━━━━━━━━━━┳━━━━━━━━━━━━━━━━┳━━━━━━━━━━━━━━━━━━━━━━━━┓\n",
              "┃\u001b[1m \u001b[0m\u001b[1mLayer (type)             \u001b[0m\u001b[1m \u001b[0m┃\u001b[1m \u001b[0m\u001b[1mOutput Shape          \u001b[0m\u001b[1m \u001b[0m┃\u001b[1m \u001b[0m\u001b[1m       Param #\u001b[0m\u001b[1m \u001b[0m┃\u001b[1m \u001b[0m\u001b[1mConnected to          \u001b[0m\u001b[1m \u001b[0m┃\n",
              "┡━━━━━━━━━━━━━━━━━━━━━━━━━━━╇━━━━━━━━━━━━━━━━━━━━━━━━╇━━━━━━━━━━━━━━━━╇━━━━━━━━━━━━━━━━━━━━━━━━┩\n",
              "│ encoder_inputs            │ (\u001b[38;5;45mNone\u001b[0m, \u001b[38;5;45mNone\u001b[0m)           │              \u001b[38;5;34m0\u001b[0m │ -                      │\n",
              "│ (\u001b[38;5;33mInputLayer\u001b[0m)              │                        │                │                        │\n",
              "├───────────────────────────┼────────────────────────┼────────────────┼────────────────────────┤\n",
              "│ decoder_inputs            │ (\u001b[38;5;45mNone\u001b[0m, \u001b[38;5;45mNone\u001b[0m)           │              \u001b[38;5;34m0\u001b[0m │ -                      │\n",
              "│ (\u001b[38;5;33mInputLayer\u001b[0m)              │                        │                │                        │\n",
              "├───────────────────────────┼────────────────────────┼────────────────┼────────────────────────┤\n",
              "│ positional_embedding_6    │ (\u001b[38;5;45mNone\u001b[0m, \u001b[38;5;45mNone\u001b[0m, \u001b[38;5;34m256\u001b[0m)      │      \u001b[38;5;34m3,850,240\u001b[0m │ encoder_inputs[\u001b[38;5;34m0\u001b[0m][\u001b[38;5;34m0\u001b[0m]   │\n",
              "│ (\u001b[38;5;33mPositionalEmbedding\u001b[0m)     │                        │                │                        │\n",
              "├───────────────────────────┼────────────────────────┼────────────────┼────────────────────────┤\n",
              "│ positional_embedding_7    │ (\u001b[38;5;45mNone\u001b[0m, \u001b[38;5;45mNone\u001b[0m, \u001b[38;5;34m256\u001b[0m)      │      \u001b[38;5;34m3,850,240\u001b[0m │ decoder_inputs[\u001b[38;5;34m0\u001b[0m][\u001b[38;5;34m0\u001b[0m]   │\n",
              "│ (\u001b[38;5;33mPositionalEmbedding\u001b[0m)     │                        │                │                        │\n",
              "├───────────────────────────┼────────────────────────┼────────────────┼────────────────────────┤\n",
              "│ lstm_2 (\u001b[38;5;33mLSTM\u001b[0m)             │ [(\u001b[38;5;45mNone\u001b[0m, \u001b[38;5;34m256\u001b[0m), (\u001b[38;5;45mNone\u001b[0m,   │        \u001b[38;5;34m525,312\u001b[0m │ positional_embedding_… │\n",
              "│                           │ \u001b[38;5;34m256\u001b[0m), (\u001b[38;5;45mNone\u001b[0m, \u001b[38;5;34m256\u001b[0m)]     │                │                        │\n",
              "├───────────────────────────┼────────────────────────┼────────────────┼────────────────────────┤\n",
              "│ lstm_3 (\u001b[38;5;33mLSTM\u001b[0m)             │ [(\u001b[38;5;45mNone\u001b[0m, \u001b[38;5;45mNone\u001b[0m, \u001b[38;5;34m256\u001b[0m),    │        \u001b[38;5;34m525,312\u001b[0m │ positional_embedding_… │\n",
              "│                           │ (\u001b[38;5;45mNone\u001b[0m, \u001b[38;5;34m256\u001b[0m), (\u001b[38;5;45mNone\u001b[0m,    │                │ lstm_2[\u001b[38;5;34m0\u001b[0m][\u001b[38;5;34m1\u001b[0m],          │\n",
              "│                           │ \u001b[38;5;34m256\u001b[0m)]                  │                │ lstm_2[\u001b[38;5;34m0\u001b[0m][\u001b[38;5;34m2\u001b[0m]           │\n",
              "├───────────────────────────┼────────────────────────┼────────────────┼────────────────────────┤\n",
              "│ dense_12 (\u001b[38;5;33mDense\u001b[0m)          │ (\u001b[38;5;45mNone\u001b[0m, \u001b[38;5;45mNone\u001b[0m, \u001b[38;5;34m15000\u001b[0m)    │      \u001b[38;5;34m3,855,000\u001b[0m │ lstm_3[\u001b[38;5;34m0\u001b[0m][\u001b[38;5;34m0\u001b[0m]           │\n",
              "└───────────────────────────┴────────────────────────┴────────────────┴────────────────────────┘\n"
            ],
            "text/html": [
              "<pre style=\"white-space:pre;overflow-x:auto;line-height:normal;font-family:Menlo,'DejaVu Sans Mono',consolas,'Courier New',monospace\">┏━━━━━━━━━━━━━━━━━━━━━━━━━━━┳━━━━━━━━━━━━━━━━━━━━━━━━┳━━━━━━━━━━━━━━━━┳━━━━━━━━━━━━━━━━━━━━━━━━┓\n",
              "┃<span style=\"font-weight: bold\"> Layer (type)              </span>┃<span style=\"font-weight: bold\"> Output Shape           </span>┃<span style=\"font-weight: bold\">        Param # </span>┃<span style=\"font-weight: bold\"> Connected to           </span>┃\n",
              "┡━━━━━━━━━━━━━━━━━━━━━━━━━━━╇━━━━━━━━━━━━━━━━━━━━━━━━╇━━━━━━━━━━━━━━━━╇━━━━━━━━━━━━━━━━━━━━━━━━┩\n",
              "│ encoder_inputs            │ (<span style=\"color: #00d7ff; text-decoration-color: #00d7ff\">None</span>, <span style=\"color: #00d7ff; text-decoration-color: #00d7ff\">None</span>)           │              <span style=\"color: #00af00; text-decoration-color: #00af00\">0</span> │ -                      │\n",
              "│ (<span style=\"color: #0087ff; text-decoration-color: #0087ff\">InputLayer</span>)              │                        │                │                        │\n",
              "├───────────────────────────┼────────────────────────┼────────────────┼────────────────────────┤\n",
              "│ decoder_inputs            │ (<span style=\"color: #00d7ff; text-decoration-color: #00d7ff\">None</span>, <span style=\"color: #00d7ff; text-decoration-color: #00d7ff\">None</span>)           │              <span style=\"color: #00af00; text-decoration-color: #00af00\">0</span> │ -                      │\n",
              "│ (<span style=\"color: #0087ff; text-decoration-color: #0087ff\">InputLayer</span>)              │                        │                │                        │\n",
              "├───────────────────────────┼────────────────────────┼────────────────┼────────────────────────┤\n",
              "│ positional_embedding_6    │ (<span style=\"color: #00d7ff; text-decoration-color: #00d7ff\">None</span>, <span style=\"color: #00d7ff; text-decoration-color: #00d7ff\">None</span>, <span style=\"color: #00af00; text-decoration-color: #00af00\">256</span>)      │      <span style=\"color: #00af00; text-decoration-color: #00af00\">3,850,240</span> │ encoder_inputs[<span style=\"color: #00af00; text-decoration-color: #00af00\">0</span>][<span style=\"color: #00af00; text-decoration-color: #00af00\">0</span>]   │\n",
              "│ (<span style=\"color: #0087ff; text-decoration-color: #0087ff\">PositionalEmbedding</span>)     │                        │                │                        │\n",
              "├───────────────────────────┼────────────────────────┼────────────────┼────────────────────────┤\n",
              "│ positional_embedding_7    │ (<span style=\"color: #00d7ff; text-decoration-color: #00d7ff\">None</span>, <span style=\"color: #00d7ff; text-decoration-color: #00d7ff\">None</span>, <span style=\"color: #00af00; text-decoration-color: #00af00\">256</span>)      │      <span style=\"color: #00af00; text-decoration-color: #00af00\">3,850,240</span> │ decoder_inputs[<span style=\"color: #00af00; text-decoration-color: #00af00\">0</span>][<span style=\"color: #00af00; text-decoration-color: #00af00\">0</span>]   │\n",
              "│ (<span style=\"color: #0087ff; text-decoration-color: #0087ff\">PositionalEmbedding</span>)     │                        │                │                        │\n",
              "├───────────────────────────┼────────────────────────┼────────────────┼────────────────────────┤\n",
              "│ lstm_2 (<span style=\"color: #0087ff; text-decoration-color: #0087ff\">LSTM</span>)             │ [(<span style=\"color: #00d7ff; text-decoration-color: #00d7ff\">None</span>, <span style=\"color: #00af00; text-decoration-color: #00af00\">256</span>), (<span style=\"color: #00d7ff; text-decoration-color: #00d7ff\">None</span>,   │        <span style=\"color: #00af00; text-decoration-color: #00af00\">525,312</span> │ positional_embedding_… │\n",
              "│                           │ <span style=\"color: #00af00; text-decoration-color: #00af00\">256</span>), (<span style=\"color: #00d7ff; text-decoration-color: #00d7ff\">None</span>, <span style=\"color: #00af00; text-decoration-color: #00af00\">256</span>)]     │                │                        │\n",
              "├───────────────────────────┼────────────────────────┼────────────────┼────────────────────────┤\n",
              "│ lstm_3 (<span style=\"color: #0087ff; text-decoration-color: #0087ff\">LSTM</span>)             │ [(<span style=\"color: #00d7ff; text-decoration-color: #00d7ff\">None</span>, <span style=\"color: #00d7ff; text-decoration-color: #00d7ff\">None</span>, <span style=\"color: #00af00; text-decoration-color: #00af00\">256</span>),    │        <span style=\"color: #00af00; text-decoration-color: #00af00\">525,312</span> │ positional_embedding_… │\n",
              "│                           │ (<span style=\"color: #00d7ff; text-decoration-color: #00d7ff\">None</span>, <span style=\"color: #00af00; text-decoration-color: #00af00\">256</span>), (<span style=\"color: #00d7ff; text-decoration-color: #00d7ff\">None</span>,    │                │ lstm_2[<span style=\"color: #00af00; text-decoration-color: #00af00\">0</span>][<span style=\"color: #00af00; text-decoration-color: #00af00\">1</span>],          │\n",
              "│                           │ <span style=\"color: #00af00; text-decoration-color: #00af00\">256</span>)]                  │                │ lstm_2[<span style=\"color: #00af00; text-decoration-color: #00af00\">0</span>][<span style=\"color: #00af00; text-decoration-color: #00af00\">2</span>]           │\n",
              "├───────────────────────────┼────────────────────────┼────────────────┼────────────────────────┤\n",
              "│ dense_12 (<span style=\"color: #0087ff; text-decoration-color: #0087ff\">Dense</span>)          │ (<span style=\"color: #00d7ff; text-decoration-color: #00d7ff\">None</span>, <span style=\"color: #00d7ff; text-decoration-color: #00d7ff\">None</span>, <span style=\"color: #00af00; text-decoration-color: #00af00\">15000</span>)    │      <span style=\"color: #00af00; text-decoration-color: #00af00\">3,855,000</span> │ lstm_3[<span style=\"color: #00af00; text-decoration-color: #00af00\">0</span>][<span style=\"color: #00af00; text-decoration-color: #00af00\">0</span>]           │\n",
              "└───────────────────────────┴────────────────────────┴────────────────┴────────────────────────┘\n",
              "</pre>\n"
            ]
          },
          "metadata": {}
        },
        {
          "output_type": "display_data",
          "data": {
            "text/plain": [
              "\u001b[1m Total params: \u001b[0m\u001b[38;5;34m12,606,104\u001b[0m (48.09 MB)\n"
            ],
            "text/html": [
              "<pre style=\"white-space:pre;overflow-x:auto;line-height:normal;font-family:Menlo,'DejaVu Sans Mono',consolas,'Courier New',monospace\"><span style=\"font-weight: bold\"> Total params: </span><span style=\"color: #00af00; text-decoration-color: #00af00\">12,606,104</span> (48.09 MB)\n",
              "</pre>\n"
            ]
          },
          "metadata": {}
        },
        {
          "output_type": "display_data",
          "data": {
            "text/plain": [
              "\u001b[1m Trainable params: \u001b[0m\u001b[38;5;34m12,606,104\u001b[0m (48.09 MB)\n"
            ],
            "text/html": [
              "<pre style=\"white-space:pre;overflow-x:auto;line-height:normal;font-family:Menlo,'DejaVu Sans Mono',consolas,'Courier New',monospace\"><span style=\"font-weight: bold\"> Trainable params: </span><span style=\"color: #00af00; text-decoration-color: #00af00\">12,606,104</span> (48.09 MB)\n",
              "</pre>\n"
            ]
          },
          "metadata": {}
        },
        {
          "output_type": "display_data",
          "data": {
            "text/plain": [
              "\u001b[1m Non-trainable params: \u001b[0m\u001b[38;5;34m0\u001b[0m (0.00 B)\n"
            ],
            "text/html": [
              "<pre style=\"white-space:pre;overflow-x:auto;line-height:normal;font-family:Menlo,'DejaVu Sans Mono',consolas,'Courier New',monospace\"><span style=\"font-weight: bold\"> Non-trainable params: </span><span style=\"color: #00af00; text-decoration-color: #00af00\">0</span> (0.00 B)\n",
              "</pre>\n"
            ]
          },
          "metadata": {}
        }
      ]
    },
    {
      "cell_type": "code",
      "source": [
        "# Compile the model\n",
        "model.compile(optimizer='adam', loss='sparse_categorical_crossentropy', metrics=['accuracy'])\n",
        "\n",
        "lstm_history = transformer.fit(train_ds, epochs=10, validation_data=val_ds)"
      ],
      "metadata": {
        "id": "S4libbal1n59",
        "colab": {
          "base_uri": "https://localhost:8080/"
        },
        "outputId": "0eed5c5a-005e-4881-fac9-b7a45b2310af"
      },
      "execution_count": 39,
      "outputs": [
        {
          "output_type": "stream",
          "name": "stdout",
          "text": [
            "Epoch 1/10\n",
            "\u001b[1m1302/1302\u001b[0m \u001b[32m━━━━━━━━━━━━━━━━━━━━\u001b[0m\u001b[37m\u001b[0m \u001b[1m63s\u001b[0m 48ms/step - accuracy: 0.9996 - loss: 0.0024 - val_accuracy: 0.9992 - val_loss: 0.0076\n",
            "Epoch 2/10\n",
            "\u001b[1m1302/1302\u001b[0m \u001b[32m━━━━━━━━━━━━━━━━━━━━\u001b[0m\u001b[37m\u001b[0m \u001b[1m64s\u001b[0m 49ms/step - accuracy: 0.9998 - loss: 0.0013 - val_accuracy: 0.9992 - val_loss: 0.0077\n",
            "Epoch 3/10\n",
            "\u001b[1m1302/1302\u001b[0m \u001b[32m━━━━━━━━━━━━━━━━━━━━\u001b[0m\u001b[37m\u001b[0m \u001b[1m64s\u001b[0m 49ms/step - accuracy: 0.9998 - loss: 0.0015 - val_accuracy: 0.9992 - val_loss: 0.0073\n",
            "Epoch 4/10\n",
            "\u001b[1m1302/1302\u001b[0m \u001b[32m━━━━━━━━━━━━━━━━━━━━\u001b[0m\u001b[37m\u001b[0m \u001b[1m82s\u001b[0m 49ms/step - accuracy: 0.9999 - loss: 5.9874e-04 - val_accuracy: 0.9992 - val_loss: 0.0078\n",
            "Epoch 5/10\n",
            "\u001b[1m1302/1302\u001b[0m \u001b[32m━━━━━━━━━━━━━━━━━━━━\u001b[0m\u001b[37m\u001b[0m \u001b[1m64s\u001b[0m 49ms/step - accuracy: 0.9999 - loss: 8.3934e-04 - val_accuracy: 0.9992 - val_loss: 0.0078\n",
            "Epoch 6/10\n",
            "\u001b[1m1302/1302\u001b[0m \u001b[32m━━━━━━━━━━━━━━━━━━━━\u001b[0m\u001b[37m\u001b[0m \u001b[1m82s\u001b[0m 49ms/step - accuracy: 0.9998 - loss: 0.0010 - val_accuracy: 0.9992 - val_loss: 0.0076\n",
            "Epoch 7/10\n",
            "\u001b[1m1302/1302\u001b[0m \u001b[32m━━━━━━━━━━━━━━━━━━━━\u001b[0m\u001b[37m\u001b[0m \u001b[1m83s\u001b[0m 50ms/step - accuracy: 0.9999 - loss: 7.8556e-04 - val_accuracy: 0.9992 - val_loss: 0.0078\n",
            "Epoch 8/10\n",
            "\u001b[1m1302/1302\u001b[0m \u001b[32m━━━━━━━━━━━━━━━━━━━━\u001b[0m\u001b[37m\u001b[0m \u001b[1m64s\u001b[0m 49ms/step - accuracy: 0.9999 - loss: 6.4423e-04 - val_accuracy: 0.9992 - val_loss: 0.0078\n",
            "Epoch 9/10\n",
            "\u001b[1m1302/1302\u001b[0m \u001b[32m━━━━━━━━━━━━━━━━━━━━\u001b[0m\u001b[37m\u001b[0m \u001b[1m81s\u001b[0m 49ms/step - accuracy: 0.9998 - loss: 0.0011 - val_accuracy: 0.9992 - val_loss: 0.0079\n",
            "Epoch 10/10\n",
            "\u001b[1m1302/1302\u001b[0m \u001b[32m━━━━━━━━━━━━━━━━━━━━\u001b[0m\u001b[37m\u001b[0m \u001b[1m82s\u001b[0m 49ms/step - accuracy: 0.9999 - loss: 4.1108e-04 - val_accuracy: 0.9992 - val_loss: 0.0081\n"
          ]
        }
      ]
    },
    {
      "cell_type": "code",
      "source": [
        "lh = lstm_history.history\n",
        "epoch_range = range(1, len(lh['loss'])+1)\n",
        "\n",
        "plt.figure(figsize=[15,4])\n",
        "n = int(len(lh.keys()) / 2)\n",
        "\n",
        "# Plot accuracy\n",
        "plt.subplot(1,3,1)\n",
        "plt.plot(epoch_range, lh['accuracy'], label='Training')\n",
        "plt.plot(epoch_range, lh['val_accuracy'], label='Validation')\n",
        "plt.xlabel('Epoch'); plt.ylabel('Accuracy'); plt.title('Accuracy')\n",
        "plt.ylim((0.90, 1.05))\n",
        "plt.grid()\n",
        "plt.legend()\n",
        "\n",
        "# Plot Loss\n",
        "plt.subplot(1,3,2)\n",
        "plt.plot(epoch_range, lh['loss'], label='Training')\n",
        "plt.plot(epoch_range, lh['val_loss'], label='Validation')\n",
        "plt.xlabel('Epoch'); plt.ylabel('Loss'); plt.title('Loss')\n",
        "plt.grid()\n",
        "plt.legend()"
      ],
      "metadata": {
        "id": "k_QbTzNZ84gv",
        "colab": {
          "base_uri": "https://localhost:8080/",
          "height": 427
        },
        "outputId": "004ce0d2-714c-4ef6-cd66-8d3ea38d074c"
      },
      "execution_count": 40,
      "outputs": [
        {
          "output_type": "execute_result",
          "data": {
            "text/plain": [
              "<matplotlib.legend.Legend at 0x79b23b390520>"
            ]
          },
          "metadata": {},
          "execution_count": 40
        },
        {
          "output_type": "display_data",
          "data": {
            "text/plain": [
              "<Figure size 1500x400 with 2 Axes>"
            ],
            "image/png": "[encoded data removed]"
          },
          "metadata": {}
        }
      ]
    },
    {
      "cell_type": "code",
      "source": [
        "# Evaluate LSTM Model on unseen data\n",
        "bleu_scores = np.zeros((30,))\n",
        "meteor_scores = np.zeros((30,))\n",
        "for i, test_pair in enumerate(test_pairs[:30]):\n",
        "    input_sentence = test_pair[0]\n",
        "    reference_sentence = test_pair[1].split(' ')\n",
        "\n",
        "    translated_sentence = decode_sequence([input_sentence], model)\n",
        "    translated_sentence = (\n",
        "        translated_sentence.replace(\"[START]\", \"\")\n",
        "        .replace(\"[END]\", \"\")\n",
        "        .strip()\n",
        "        .split(' ')\n",
        "    )\n",
        "    # Specify only 1 gram matches\n",
        "    bleu = sentence_bleu([reference_sentence], translated_sentence, weights=(1, 0, 0, 0))\n",
        "    meteor = meteor_score([reference_sentence], translated_sentence)\n",
        "    bleu_scores[i] = bleu\n",
        "    meteor_scores[i] = meteor\n",
        "\n",
        "print(f'Average BLEU score: {np.mean(bleu_scores, axis=0)}')\n",
        "print(f'Average METEOR score: {np.mean(meteor_scores, axis=0)}')"
      ],
      "metadata": {
        "colab": {
          "base_uri": "https://localhost:8080/"
        },
        "id": "Uta19EwJr73u",
        "outputId": "0af897e5-c4c9-477e-e723-27263fe7f429"
      },
      "execution_count": 57,
      "outputs": [
        {
          "output_type": "stream",
          "name": "stderr",
          "text": [
            "/usr/local/lib/python3.10/dist-packages/nltk/translate/bleu_score.py:552: UserWarning: \n",
            "The hypothesis contains 0 counts of 2-gram overlaps.\n",
            "Therefore the BLEU score evaluates to 0, independently of\n",
            "how many N-gram overlaps of lower order it contains.\n",
            "Consider using lower n-gram order or use SmoothingFunction()\n",
            "  warnings.warn(_msg)\n",
            "/usr/local/lib/python3.10/dist-packages/nltk/translate/bleu_score.py:552: UserWarning: \n",
            "The hypothesis contains 0 counts of 3-gram overlaps.\n",
            "Therefore the BLEU score evaluates to 0, independently of\n",
            "how many N-gram overlaps of lower order it contains.\n",
            "Consider using lower n-gram order or use SmoothingFunction()\n",
            "  warnings.warn(_msg)\n",
            "/usr/local/lib/python3.10/dist-packages/nltk/translate/bleu_score.py:552: UserWarning: \n",
            "The hypothesis contains 0 counts of 4-gram overlaps.\n",
            "Therefore the BLEU score evaluates to 0, independently of\n",
            "how many N-gram overlaps of lower order it contains.\n",
            "Consider using lower n-gram order or use SmoothingFunction()\n",
            "  warnings.warn(_msg)\n"
          ]
        },
        {
          "output_type": "stream",
          "name": "stdout",
          "text": [
            "Average BLEU score: 0.026016260162601626\n",
            "Average METEOR score: 0.049886609470123425\n"
          ]
        }
      ]
    },
    {
      "cell_type": "markdown",
      "source": [
        "# Conclusion and Discussion\n",
        "\n",
        "The encoder-decoder Transformer model performed well during training achieving a validation accuracy of 0.9558 but did not perform well at the qualitative analysis; the translated example sentences were not close to the actual Spanish translations. It also did not perform well qualitatively on test data, achieving a BLEU score of 0.1236. The Transformer model outperformed the LSTM model according to BLEU score 0.1236 to 0.0260.\n",
        "\n",
        "This disparity between loss and accuracy during training and the actual performance of the model at translating unseen data was the biggest challenge of the project. Initially, I used padding to make all input sentences the same length. The model was including all the [PAD] words when evaluating accuracy. I created a mask to remove all the padding words but accuracy during training remained suspiciously high and did not reflect the quality of the model. My final transformer model did not pad the input sentences to a fixed length. For loss function I used sparse_categorical_crossentropy between the vectorized target sentence and translated sentence.\n",
        "\n",
        "Decoding text is computationally expensive, it took 80 seconds to decode the 30 test sentences after translation. It would not be feasible to decode the millions of sentences used during training using Google Colaboratory's free GPU resource. It would also result in a very complicated loss function. One way to improve the project would to use more computational resources and a loss function that evaluates the translation using the decoded sentences.\n",
        "\n",
        "\n",
        "One of the dangers with neural networks is overfitting as the model learns more about the training data. There was some evidence of overfitting, the validation accuracy decreased after epoch 8. I included some regularization techniques to mitigate overfitting such as normalization layers.\n",
        "\n",
        "To improve the model I could employ more regularization strategies to mitigate overfitting such as dropout layers and early stopping.\n",
        "\n",
        "One way to improve the model for translation of longer sequences would be to include an attention mechanism. Attention mechanisms focus on the relevant input sentence areas and learn the alignment between relevant information."
      ],
      "metadata": {
        "id": "kiUnvtpgXsog"
      }
    },
    {
      "cell_type": "markdown",
      "source": [
        "# Citations\n",
        "[1] https://keras.io/examples/nlp/neural_machine_translation_with_keras_nlp/\n",
        "\n",
        "[2] https://defined.ai/blog/machine-translation-101-part-3\n",
        "\n",
        "[3] https://www.kaggle.com/code/databeru/pt-en-translation-with-keras-blue-score\n",
        "\n",
        "[4] https://machinelearningmastery.com/calculate-bleu-score-for-text-python/\n",
        "\n",
        "[5] https://blogs.nvidia.com/blog/what-is-a-transformer-model/"
      ],
      "metadata": {
        "id": "EPpzUXvFXviS"
      }
    }
  ]
}